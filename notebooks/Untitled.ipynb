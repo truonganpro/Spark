{
 "cells": [
  {
   "cell_type": "code",
   "execution_count": 1,
   "id": "fc1f2d80-2aa6-43d9-be4e-92a16988af0a",
   "metadata": {},
   "outputs": [
    {
     "name": "stdout",
     "output_type": "stream",
     "text": [
      "Map result: [2, 4, 6, 8]\n"
     ]
    }
   ],
   "source": [
    "from datetime import datetime\n",
    "from pyspark.sql import SparkSession\n",
    "\n",
    "# Tạo SparkSession với chế độ local (chạy trên máy cục bộ)\n",
    "spark = (SparkSession.builder\n",
    "         .appName(\"pyspark-rdd-demo-{}\".format(datetime.today()))\n",
    "         .master(\"local[*]\")  # Sử dụng toàn bộ CPU có sẵn trên máy cục bộ\n",
    "         .config(\"spark.executor.memory\", \"2g\")  # Cấu hình bộ nhớ executor\n",
    "         .config(\"spark.driver.memory\", \"1g\")    # Cấu hình bộ nhớ driver\n",
    "         .getOrCreate())\n",
    "\n",
    "# Lấy SparkContext từ SparkSession\n",
    "sc = spark.sparkContext\n",
    "\n",
    "# Tạo RDD từ danh sách các số nguyên\n",
    "rdd = sc.parallelize([1, 2, 3, 4])\n",
    "\n",
    "# Áp dụng phép biến đổi map và thu thập kết quả\n",
    "result = rdd.map(lambda x: x * 2).collect()\n",
    "\n",
    "# In ra kết quả\n",
    "print(\"Map result:\", result)\n",
    "\n",
    "# Dừng SparkContext sau khi hoàn thành\n",
    "sc.stop()"
   ]
  },
  {
   "cell_type": "code",
   "execution_count": 1,
   "id": "f5ea3eeb-ead7-40c1-8bd7-1b862a4cc393",
   "metadata": {},
   "outputs": [
    {
     "name": "stdout",
     "output_type": "stream",
     "text": [
      "Spark version: 3.3.2\n"
     ]
    }
   ],
   "source": [
    "from pyspark import SparkConf, SparkContext\n",
    "\n",
    "# Tạo SparkConf và SparkContext\n",
    "conf = SparkConf().setAppName(\"Check Spark Version\")\n",
    "sc = SparkContext(conf=conf)\n",
    "\n",
    "# In phiên bản của Spark\n",
    "print(\"Spark version:\", sc.version)\n",
    "\n",
    "# Dừng SparkContext sau khi lấy thông tin\n",
    "sc.stop()"
   ]
  },
  {
   "cell_type": "code",
   "execution_count": 2,
   "id": "e6c83166-d459-487b-a4ea-3c07c8e1e15c",
   "metadata": {},
   "outputs": [
    {
     "name": "stdout",
     "output_type": "stream",
     "text": [
      "PySpark version: 3.3.2\n"
     ]
    }
   ],
   "source": [
    "import pyspark\n",
    "\n",
    "# In phiên bản của PySpark\n",
    "print(\"PySpark version:\", pyspark.__version__)"
   ]
  },
  {
   "cell_type": "code",
   "execution_count": null,
   "id": "2c6626ce-47d6-4758-ba46-12412e7cc15a",
   "metadata": {},
   "outputs": [],
   "source": []
  }
 ],
 "metadata": {
  "kernelspec": {
   "display_name": "Python 3 (ipykernel)",
   "language": "python",
   "name": "python3"
  },
  "language_info": {
   "codemirror_mode": {
    "name": "ipython",
    "version": 3
   },
   "file_extension": ".py",
   "mimetype": "text/x-python",
   "name": "python",
   "nbconvert_exporter": "python",
   "pygments_lexer": "ipython3",
   "version": "3.8.13"
  }
 },
 "nbformat": 4,
 "nbformat_minor": 5
}
