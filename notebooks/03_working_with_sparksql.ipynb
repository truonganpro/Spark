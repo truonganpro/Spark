{
 "cells": [
  {
   "cell_type": "markdown",
   "metadata": {},
   "source": [
    "# SparkSession\n",
    "A SparkSession can be used create DataFrame, register DataFrame as tables, execute SQL over tables, cache tables, and read parquet files.\n",
    "The entry point to programming Spark with the Dataset and DataFrame API."
   ]
  },
  {
   "cell_type": "code",
   "execution_count": null,
   "metadata": {},
   "outputs": [],
   "source": [
    "from datetime import datetime\n",
    "from pyspark import SparkContext\n",
    "from pyspark.sql import SparkSession, SQLContext"
   ]
  },
  {
   "cell_type": "code",
   "execution_count": null,
   "metadata": {},
   "outputs": [],
   "source": [
    "spark = (SparkSession.builder.appName(\"pyspark-sql-demo-{}\".format(datetime.today()))\n",
    "        .master(\"spark://spark-master:7077\")      \n",
    "        .getOrCreate())\n",
    "\n",
    "sqlContext = SQLContext(spark)\n",
    "# spark.sparkContext.getConf().getAll()"
   ]
  },
  {
   "cell_type": "code",
   "execution_count": null,
   "metadata": {},
   "outputs": [],
   "source": [
    "sc = spark.sparkContext\n",
    "sc"
   ]
  },
  {
   "cell_type": "markdown",
   "metadata": {},
   "source": [
    "# Truy vấn nâng cao"
   ]
  },
  {
   "cell_type": "code",
   "execution_count": null,
   "metadata": {},
   "outputs": [],
   "source": [
    "# load data\n",
    "if \"df_cars\" in locals():\n",
    "    df_cars.unpersist()\n",
    "if \"df_makers\" in locals():\n",
    "    df_makers.unpersist()\n",
    "    \n",
    "df_cars = spark.read \\\n",
    "         .format(\"csv\") \\\n",
    "         .option(\"header\", \"true\") \\\n",
    "         .load(\"s3a://warehouse/bronze/cars.csv\")\n",
    "            \n",
    "df_makers = spark.read \\\n",
    "         .format(\"csv\") \\\n",
    "         .option(\"header\", \"true\") \\\n",
    "         .load(\"s3a://warehouse/bronze/makers.csv\")        \n",
    "            \n",
    "# store as table\n",
    "df_cars.cache()\n",
    "df_makers.cache()\n",
    "sqlContext.registerDataFrameAsTable(df_cars, \"car\")\n",
    "sqlContext.registerDataFrameAsTable(df_makers, \"maker\")"
   ]
  },
  {
   "cell_type": "code",
   "execution_count": null,
   "metadata": {},
   "outputs": [],
   "source": [
    "# view schema and top data\n",
    "print(\"# Cars schema\")\n",
    "df_cars.printSchema()\n",
    "df_cars.show(5)\n",
    "\n",
    "print(\"# Makers schema\")\n",
    "df_makers.printSchema()\n",
    "df_makers.show(5)"
   ]
  },
  {
   "cell_type": "code",
   "execution_count": null,
   "metadata": {},
   "outputs": [],
   "source": []
  },
  {
   "cell_type": "markdown",
   "metadata": {},
   "source": [
    "# Truy vấn lồng\n",
    "Truy vấn lồng là một câu truy vấn mà ở bên trong nội dung của nó có chứa một câu truy vấn con khác.\n",
    "- Truy vấn lồng phân cấp: Khi nội dung của câu truy vấn con độc lập với câu truy vấn cha.\n",
    "- Truy vấn lồng tương quan: Khi nội dung của câu truy vấn con phụ thuộc vào câu truy vấn cha.\n",
    "\n",
    "## Đặt tại mệnh đề SELECT\n",
    "Kết quả của câu truy vấn sẽ như là một giá trị của một thuộc tính."
   ]
  },
  {
   "cell_type": "code",
   "execution_count": null,
   "metadata": {},
   "outputs": [],
   "source": [
    "# Với mỗi hãng xe, cho biết tên của hãng và số lượng xe tương ứng\n",
    "df_sub_queries = sqlContext.sql(\"\"\"\n",
    "    SELECT maker_name AS Hang_Xe, (\n",
    "        SELECT COUNT(*)\n",
    "        FROM car\n",
    "        WHERE car.maker_id = maker.id\n",
    "    ) AS SL_XE\n",
    "    FROM maker\n",
    "\"\"\")\n",
    "df_sub_queries.show()"
   ]
  },
  {
   "cell_type": "code",
   "execution_count": null,
   "metadata": {},
   "outputs": [],
   "source": [
    "df_sub_queries.explain()"
   ]
  },
  {
   "cell_type": "code",
   "execution_count": null,
   "metadata": {},
   "outputs": [],
   "source": []
  },
  {
   "cell_type": "markdown",
   "metadata": {},
   "source": [
    "## Đặt tại mệnh đề FROM:\n",
    "Kết quả của câu truy vấn sẽ xem như là một bảng dữ liệu, do vậy có thể truy vấn từ bảng dữ liệu này."
   ]
  },
  {
   "cell_type": "code",
   "execution_count": null,
   "metadata": {
    "scrolled": true
   },
   "outputs": [],
   "source": [
    "# Cho biết tên và giá mỗi xe của hãng Nissan\n",
    "df_sub_queries = sqlContext.sql(\"\"\"\n",
    "    SELECT T.car_name, T.price AS price_usd\n",
    "    FROM (\n",
    "        SELECT *\n",
    "        FROM car\n",
    "        WHERE maker_id = 2\n",
    "    ) AS T\n",
    "\"\"\")\n",
    "df_sub_queries.show(5)"
   ]
  },
  {
   "cell_type": "code",
   "execution_count": null,
   "metadata": {},
   "outputs": [],
   "source": [
    "df_sub_queries.explain()"
   ]
  },
  {
   "cell_type": "code",
   "execution_count": null,
   "metadata": {},
   "outputs": [],
   "source": []
  },
  {
   "cell_type": "markdown",
   "metadata": {},
   "source": [
    "## Đặt tại mệnh đề WHERE:\n",
    "Kết quả của câu truy vấn được sử dụng như một thành phần trong biểu thức điều kiện."
   ]
  },
  {
   "cell_type": "code",
   "execution_count": null,
   "metadata": {
    "scrolled": true
   },
   "outputs": [],
   "source": [
    "# Cho biết những xe có giá lớn hơn xe có mã = 5\n",
    "df_sub_queries = sqlContext.sql(\"\"\"\n",
    "    SELECT car_name, price\n",
    "    FROM car\n",
    "    WHERE price > (\n",
    "        SELECT price\n",
    "        FROM car\n",
    "        WHERE id = 5\n",
    "    )\n",
    "\"\"\")\n",
    "df_sub_queries.show(5)"
   ]
  },
  {
   "cell_type": "code",
   "execution_count": null,
   "metadata": {},
   "outputs": [],
   "source": [
    "df_sub_queries.explain()"
   ]
  },
  {
   "cell_type": "code",
   "execution_count": null,
   "metadata": {},
   "outputs": [],
   "source": []
  },
  {
   "cell_type": "markdown",
   "metadata": {},
   "source": [
    "## Truy vấn lồng phân cấp với toán tử IN\n",
    "Toán tử IN dùng để kiểm tra một giá trị có nằm trong một tập hợp nào đó hay không. Tập hợp đó có thể là kết quả của một câu truy vấn hoặc một tập hợp tường minh"
   ]
  },
  {
   "cell_type": "code",
   "execution_count": null,
   "metadata": {
    "scrolled": true
   },
   "outputs": [],
   "source": [
    "# Cho biết các xe có giá nhỏ hơn 3000 USD\n",
    "df_sub_queries = sqlContext.sql(\"\"\"\n",
    "    SELECT car_name, price\n",
    "    FROM car\n",
    "    WHERE id NOT IN (\n",
    "        SELECT id\n",
    "        FROM car\n",
    "        WHERE price > 3000\n",
    "    )\n",
    "\"\"\")\n",
    "df_sub_queries.show(5)"
   ]
  },
  {
   "cell_type": "code",
   "execution_count": null,
   "metadata": {},
   "outputs": [],
   "source": [
    "df_sub_queries.explain()"
   ]
  },
  {
   "cell_type": "code",
   "execution_count": null,
   "metadata": {},
   "outputs": [],
   "source": []
  },
  {
   "cell_type": "markdown",
   "metadata": {},
   "source": [
    "## Truy vấn lồng tương quan với EXISTS"
   ]
  },
  {
   "cell_type": "code",
   "execution_count": null,
   "metadata": {},
   "outputs": [],
   "source": [
    "# Tìm xe không phải hãng Nissan\n",
    "df_sub_queries = sqlContext.sql(\"\"\"\n",
    "    SELECT car_name\n",
    "    FROM car\n",
    "    WHERE NOT EXISTS (\n",
    "        SELECT *\n",
    "        FROM maker\n",
    "        WHERE car.maker_id = maker.id\n",
    "        AND maker.id = 5\n",
    "    )\n",
    "\"\"\")\n",
    "df_sub_queries.show(5)"
   ]
  },
  {
   "cell_type": "code",
   "execution_count": null,
   "metadata": {},
   "outputs": [],
   "source": [
    "df_sub_queries.explain()"
   ]
  },
  {
   "cell_type": "code",
   "execution_count": null,
   "metadata": {},
   "outputs": [],
   "source": []
  },
  {
   "cell_type": "markdown",
   "metadata": {},
   "source": [
    "## Ví dụ khác về truy vấn lồng tương quan"
   ]
  },
  {
   "cell_type": "code",
   "execution_count": null,
   "metadata": {},
   "outputs": [],
   "source": [
    "# Cho biết các xe có giá lớn hơn giá trung bình của hãng xe đó sản xuất\n",
    "df_sub_queries = sqlContext.sql(\"\"\"\n",
    "    SELECT car_name, price\n",
    "    FROM car AS car1\n",
    "    WHERE car1.price > (\n",
    "        SELECT AVG(car2.price)\n",
    "        FROM car AS car2\n",
    "        WHERE car2.maker_id = car1.maker_id\n",
    "    )\n",
    "\"\"\")\n",
    "df_sub_queries.show(5)"
   ]
  },
  {
   "cell_type": "code",
   "execution_count": null,
   "metadata": {},
   "outputs": [],
   "source": [
    "df_sub_queries.explain()"
   ]
  },
  {
   "cell_type": "code",
   "execution_count": null,
   "metadata": {},
   "outputs": [],
   "source": []
  },
  {
   "cell_type": "code",
   "execution_count": null,
   "metadata": {},
   "outputs": [],
   "source": [
    "# Cho biết các xe có giá cao nhất\n",
    "df_sub_queries = sqlContext.sql(\"\"\"\n",
    "    SELECT car_name, price\n",
    "    FROM car\n",
    "    WHERE price = (\n",
    "        SELECT MAX(price)\n",
    "        FROM car\n",
    "    )\n",
    "\"\"\")\n",
    "df_sub_queries.show(5)"
   ]
  },
  {
   "cell_type": "code",
   "execution_count": null,
   "metadata": {},
   "outputs": [],
   "source": [
    "df_sub_queries.explain()"
   ]
  },
  {
   "cell_type": "code",
   "execution_count": null,
   "metadata": {},
   "outputs": [],
   "source": []
  },
  {
   "cell_type": "code",
   "execution_count": null,
   "metadata": {},
   "outputs": [],
   "source": [
    "# Cho biết các hãng sản xuất nhiều xe nhất\n",
    "df_sub_queries = sqlContext.sql(\"\"\"\n",
    "    SELECT maker_id\n",
    "    FROM car\n",
    "    GROUP BY maker_id\n",
    "    HAVING COUNT(*) = (\n",
    "        SELECT MAX(SL_XE)\n",
    "        FROM (\n",
    "            SELECT COUNT(*) AS SL_XE\n",
    "            FROM car\n",
    "            GROUP BY maker_id\n",
    "        )\n",
    "    )\n",
    "\"\"\")\n",
    "df_sub_queries.show(5)"
   ]
  },
  {
   "cell_type": "code",
   "execution_count": null,
   "metadata": {},
   "outputs": [],
   "source": [
    "df_sub_queries.explain()"
   ]
  },
  {
   "cell_type": "code",
   "execution_count": null,
   "metadata": {},
   "outputs": [],
   "source": []
  },
  {
   "cell_type": "markdown",
   "metadata": {},
   "source": [
    "# Truy vấn khác"
   ]
  },
  {
   "cell_type": "code",
   "execution_count": null,
   "metadata": {},
   "outputs": [],
   "source": [
    "# create inventory by joining cars and makers\n",
    "if \"df_inventory\" in locals():\n",
    "    df_inventory.unpersist()\n",
    "    \n",
    "df_inventory = sqlContext.sql(\"\"\"\n",
    "    SELECT car_name, price, maker_name, years\n",
    "    FROM car\n",
    "    JOIN maker\n",
    "    ON car.maker_id = maker.id\n",
    "\"\"\")\n",
    "df_inventory.show(5)\n",
    "\n",
    "# store as table\n",
    "df_inventory.cache()\n",
    "sqlContext.registerDataFrameAsTable(df_inventory, \"inventory\")"
   ]
  },
  {
   "cell_type": "code",
   "execution_count": null,
   "metadata": {},
   "outputs": [],
   "source": [
    "df_inventory.explain()"
   ]
  },
  {
   "cell_type": "code",
   "execution_count": null,
   "metadata": {},
   "outputs": [],
   "source": []
  },
  {
   "cell_type": "markdown",
   "metadata": {},
   "source": [
    "## Tổng hợp sử dụng CUBE"
   ]
  },
  {
   "cell_type": "code",
   "execution_count": null,
   "metadata": {
    "scrolled": true
   },
   "outputs": [],
   "source": [
    "# Tổng hợp tổng giá trị của các xe theo:\n",
    "# - Tên xe và tên hãng\n",
    "# - Từng tên xe\n",
    "# - Từng hãng\n",
    "# - Tổng giá trị\n",
    "\n",
    "# Output:\n",
    "# - Ranger, Land Rover, 7535.8: tổng giá trị xe Ranger, hãng Land Rover là 7535.8\n",
    "# - Chariot, null, 7867.58: tổng giá trị xe Chariot, hãng bất kỳ là 7867.58\n",
    "# - null, null, 5396393.689999999: tổng giá trị các xe từ các hãng là 5396393.689999999\n",
    "# - null, Cadillac, 544548.9600000001: tổng giá trị từ hãng Cadillac là 544548.9600000001\n",
    "\n",
    "df_compute = sqlContext.sql(\"\"\"\n",
    "    SELECT car_name, maker_name, SUM(price) AS TotalPrice\n",
    "    FROM inventory\n",
    "    GROUP BY car_name, maker_name WITH CUBE\n",
    "\"\"\")\n",
    "df_compute.show(10)"
   ]
  },
  {
   "cell_type": "code",
   "execution_count": null,
   "metadata": {},
   "outputs": [],
   "source": [
    "df_compute.explain()"
   ]
  },
  {
   "cell_type": "code",
   "execution_count": null,
   "metadata": {},
   "outputs": [],
   "source": []
  },
  {
   "cell_type": "markdown",
   "metadata": {},
   "source": [
    "## Tổng hợp sử dụng ROLLUP"
   ]
  },
  {
   "cell_type": "code",
   "execution_count": null,
   "metadata": {},
   "outputs": [],
   "source": [
    "# Tổng hợp tổng giá trị của các xe theo:\n",
    "# - Tên xe và tên hãng\n",
    "# - Từng tên xe\n",
    "# - Tổng giá trị\n",
    "\n",
    "# Output:\n",
    "# - Ranger, Land Rover, 7535.8: tổng giá trị xe Ranger, hãng Land Rover là 7535.8\n",
    "# - Chariot, null, 7867.58: tổng giá trị xe Chariot, hãng bất kỳ là 7867.58\n",
    "# - null, null, 5396393.689999999: tổng giá trị các xe từ các hãng là 5396393.689999999\n",
    "\n",
    "df_compute = sqlContext.sql(\"\"\"\n",
    "    SELECT car_name, maker_name, SUM(price) AS TotalPrice\n",
    "    FROM inventory\n",
    "    GROUP BY car_name, maker_name WITH ROLLUP\n",
    "\"\"\")\n",
    "df_compute.show(10)"
   ]
  },
  {
   "cell_type": "code",
   "execution_count": null,
   "metadata": {
    "tags": []
   },
   "outputs": [],
   "source": [
    "df_compute.explain()"
   ]
  },
  {
   "cell_type": "code",
   "execution_count": null,
   "metadata": {},
   "outputs": [],
   "source": []
  }
 ],
 "metadata": {
  "kernelspec": {
   "display_name": "Python 3 (ipykernel)",
   "language": "python",
   "name": "python3"
  },
  "language_info": {
   "codemirror_mode": {
    "name": "ipython",
    "version": 3
   },
   "file_extension": ".py",
   "mimetype": "text/x-python",
   "name": "python",
   "nbconvert_exporter": "python",
   "pygments_lexer": "ipython3",
   "version": "3.8.13"
  }
 },
 "nbformat": 4,
 "nbformat_minor": 4
}
